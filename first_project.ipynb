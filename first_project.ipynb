{
 "cells": [
  {
   "cell_type": "code",
   "execution_count": 26,
   "id": "1cdf89e1-1888-4966-afd9-3ec7a8e7b02c",
   "metadata": {},
   "outputs": [],
   "source": [
    "import pandas as pd\n",
    "import numpy as np\n",
    "import matplotlib.pyplot as plt\n",
    "import seaborn as sns\n",
    "#import requests\n",
    "#from bs4 import BeautifulSoup\n",
    "        "
   ]
  },
  {
   "cell_type": "code",
   "execution_count": null,
   "id": "d693f502-f5ec-408e-85ec-babf837e0ae3",
   "metadata": {},
   "outputs": [],
   "source": []
  },
  {
   "cell_type": "markdown",
   "id": "f1a2d1a2-c995-49e5-9c71-81e56c8d703a",
   "metadata": {},
   "source": [
    "***disclaimer:***\n",
    "\n",
    "--------------------------------------------------------------------------------------------------------------------------------------------\n",
    "The text below, data and information are not mine, the analysis of the data and the highlights obteined are just my personal interpretation and should not be taken as a fact or the truth, part of the data and information can be incomplet or misinterpreted.\n",
    "Any sugestion, don't be afraid to contact me at arturoale1994@gmail.com\n",
    "--------------------------------------------------------------------------------------------------------------------------------------------\n",
    "\n",
    "**Context**\n",
    "The basic GISS temperature analysis scheme was defined in the late 1970s by James Hansen when a method of estimating global temperature change was needed for comparison with one-dimensional global climate models. The analysis method was fully documented in Hansen and Lebedeff (1987). Several papers describing updates to the analysis followed over the following decades, most recently that of Hansen et al. (2010), as well as the uncertainty quantification of Lenssen et al. (2019).\n",
    "\n",
    "For further details, please see the GISTEMP Background, History, and References pages. We also maintain a running record of modifications made to the analysis on our Updates to Analysis page.\n",
    "\n",
    "The GISTEMP analysis is updated regularly. Graphs and tables are posted around the middle of every month using the latest GHCN and ERSST data. The update incorporates reports for the previous month as well as late reports and corrections for earlier months.\n",
    "\n",
    "Combined Land-Surface Air and Sea-Surface Water Temperature Anomalies (Land-Ocean Temperature Index, L-OTI). The following are plain-text files in tabular format of temperature anomalies, i.e. deviations from the corresponding 1951-1980 means.\n",
    "\n",
    "\n",
    "\n",
    "\n",
    "GISTEMP Team, 2023: GISS Surface Temperature Analysis (GISTEMP), version 4. NASA Goddard Institute for Space Studies. Dataset accessed 2023-02-06 at data.giss.nasa.gov/gistemp/.\n",
    "Lenssen, N., G. Schmidt, J. Hansen, M. Menne, A. Persin, R. Ruedy, and D. Zyss, 2019: Improvements in the GISTEMP uncertainty model. J. Geophys. Res. Atmos., 124, no. 12, 6307-6326,doi:10.1029/2018JD029522.\n",
    "GISS Analysis"
   ]
  },
  {
   "cell_type": "code",
   "execution_count": 27,
   "id": "a03d5760-6412-457f-86da-17cee4236e6e",
   "metadata": {},
   "outputs": [],
   "source": [
    "file='monthly_temperature.csv'"
   ]
  },
  {
   "cell_type": "code",
   "execution_count": 28,
   "id": "a1963123-8aa3-4d01-ac21-cab22005ae5a",
   "metadata": {},
   "outputs": [],
   "source": [
    "m_temp=pd.read_csv(file)"
   ]
  },
  {
   "cell_type": "code",
   "execution_count": 29,
   "id": "de478716-13ce-4258-a821-4db32e242a6b",
   "metadata": {},
   "outputs": [
    {
     "data": {
      "text/html": [
       "<div>\n",
       "<style scoped>\n",
       "    .dataframe tbody tr th:only-of-type {\n",
       "        vertical-align: middle;\n",
       "    }\n",
       "\n",
       "    .dataframe tbody tr th {\n",
       "        vertical-align: top;\n",
       "    }\n",
       "\n",
       "    .dataframe thead th {\n",
       "        text-align: right;\n",
       "    }\n",
       "</style>\n",
       "<table border=\"1\" class=\"dataframe\">\n",
       "  <thead>\n",
       "    <tr style=\"text-align: right;\">\n",
       "      <th></th>\n",
       "      <th>Year</th>\n",
       "      <th>Month</th>\n",
       "      <th>Temperature</th>\n",
       "    </tr>\n",
       "  </thead>\n",
       "  <tbody>\n",
       "    <tr>\n",
       "      <th>0</th>\n",
       "      <td>1880</td>\n",
       "      <td>1</td>\n",
       "      <td>-0.36</td>\n",
       "    </tr>\n",
       "    <tr>\n",
       "      <th>1</th>\n",
       "      <td>1881</td>\n",
       "      <td>1</td>\n",
       "      <td>-0.31</td>\n",
       "    </tr>\n",
       "    <tr>\n",
       "      <th>2</th>\n",
       "      <td>1882</td>\n",
       "      <td>1</td>\n",
       "      <td>0.26</td>\n",
       "    </tr>\n",
       "    <tr>\n",
       "      <th>3</th>\n",
       "      <td>1883</td>\n",
       "      <td>1</td>\n",
       "      <td>-0.58</td>\n",
       "    </tr>\n",
       "    <tr>\n",
       "      <th>4</th>\n",
       "      <td>1884</td>\n",
       "      <td>1</td>\n",
       "      <td>-0.17</td>\n",
       "    </tr>\n",
       "  </tbody>\n",
       "</table>\n",
       "</div>"
      ],
      "text/plain": [
       "   Year  Month  Temperature\n",
       "0  1880      1        -0.36\n",
       "1  1881      1        -0.31\n",
       "2  1882      1         0.26\n",
       "3  1883      1        -0.58\n",
       "4  1884      1        -0.17"
      ]
     },
     "execution_count": 29,
     "metadata": {},
     "output_type": "execute_result"
    }
   ],
   "source": [
    "m_temp.head(5)"
   ]
  },
  {
   "cell_type": "code",
   "execution_count": 30,
   "id": "23d8ec07-bd8d-4369-92e0-457230cb6575",
   "metadata": {},
   "outputs": [
    {
     "data": {
      "text/plain": [
       "Index(['Year', 'Month', 'Temperature'], dtype='object')"
      ]
     },
     "execution_count": 30,
     "metadata": {},
     "output_type": "execute_result"
    }
   ],
   "source": [
    "m_temp.columns"
   ]
  },
  {
   "cell_type": "code",
   "execution_count": 31,
   "id": "7fcede28-16fe-4905-92fe-7bf04a5e033e",
   "metadata": {},
   "outputs": [
    {
     "data": {
      "text/plain": [
       "Year             int64\n",
       "Month            int64\n",
       "Temperature    float64\n",
       "dtype: object"
      ]
     },
     "execution_count": 31,
     "metadata": {},
     "output_type": "execute_result"
    }
   ],
   "source": [
    "m_temp.dtypes"
   ]
  },
  {
   "cell_type": "code",
   "execution_count": 32,
   "id": "56395480-51f9-4c5a-91e6-3ee686cf89b1",
   "metadata": {},
   "outputs": [
    {
     "data": {
      "text/html": [
       "<div>\n",
       "<style scoped>\n",
       "    .dataframe tbody tr th:only-of-type {\n",
       "        vertical-align: middle;\n",
       "    }\n",
       "\n",
       "    .dataframe tbody tr th {\n",
       "        vertical-align: top;\n",
       "    }\n",
       "\n",
       "    .dataframe thead th {\n",
       "        text-align: right;\n",
       "    }\n",
       "</style>\n",
       "<table border=\"1\" class=\"dataframe\">\n",
       "  <thead>\n",
       "    <tr style=\"text-align: right;\">\n",
       "      <th></th>\n",
       "      <th>Year</th>\n",
       "      <th>Month</th>\n",
       "      <th>Temperature</th>\n",
       "    </tr>\n",
       "  </thead>\n",
       "  <tbody>\n",
       "    <tr>\n",
       "      <th>count</th>\n",
       "      <td>1716.000000</td>\n",
       "      <td>1716.000000</td>\n",
       "      <td>1716.000000</td>\n",
       "    </tr>\n",
       "    <tr>\n",
       "      <th>mean</th>\n",
       "      <td>1951.000000</td>\n",
       "      <td>6.500000</td>\n",
       "      <td>0.086603</td>\n",
       "    </tr>\n",
       "    <tr>\n",
       "      <th>std</th>\n",
       "      <td>41.291568</td>\n",
       "      <td>3.453059</td>\n",
       "      <td>0.475834</td>\n",
       "    </tr>\n",
       "    <tr>\n",
       "      <th>min</th>\n",
       "      <td>1880.000000</td>\n",
       "      <td>1.000000</td>\n",
       "      <td>-1.510000</td>\n",
       "    </tr>\n",
       "    <tr>\n",
       "      <th>25%</th>\n",
       "      <td>1915.000000</td>\n",
       "      <td>3.750000</td>\n",
       "      <td>-0.240000</td>\n",
       "    </tr>\n",
       "    <tr>\n",
       "      <th>50%</th>\n",
       "      <td>1951.000000</td>\n",
       "      <td>6.500000</td>\n",
       "      <td>0.000000</td>\n",
       "    </tr>\n",
       "    <tr>\n",
       "      <th>75%</th>\n",
       "      <td>1987.000000</td>\n",
       "      <td>9.250000</td>\n",
       "      <td>0.320000</td>\n",
       "    </tr>\n",
       "    <tr>\n",
       "      <th>max</th>\n",
       "      <td>2022.000000</td>\n",
       "      <td>12.000000</td>\n",
       "      <td>1.940000</td>\n",
       "    </tr>\n",
       "  </tbody>\n",
       "</table>\n",
       "</div>"
      ],
      "text/plain": [
       "              Year        Month  Temperature\n",
       "count  1716.000000  1716.000000  1716.000000\n",
       "mean   1951.000000     6.500000     0.086603\n",
       "std      41.291568     3.453059     0.475834\n",
       "min    1880.000000     1.000000    -1.510000\n",
       "25%    1915.000000     3.750000    -0.240000\n",
       "50%    1951.000000     6.500000     0.000000\n",
       "75%    1987.000000     9.250000     0.320000\n",
       "max    2022.000000    12.000000     1.940000"
      ]
     },
     "execution_count": 32,
     "metadata": {},
     "output_type": "execute_result"
    }
   ],
   "source": [
    "m_temp.describe()"
   ]
  },
  {
   "cell_type": "code",
   "execution_count": 33,
   "id": "8cd4d388-f563-4bc4-8fbb-12f8f2bcccd3",
   "metadata": {},
   "outputs": [
    {
     "data": {
      "text/html": [
       "<div>\n",
       "<style scoped>\n",
       "    .dataframe tbody tr th:only-of-type {\n",
       "        vertical-align: middle;\n",
       "    }\n",
       "\n",
       "    .dataframe tbody tr th {\n",
       "        vertical-align: top;\n",
       "    }\n",
       "\n",
       "    .dataframe thead th {\n",
       "        text-align: right;\n",
       "    }\n",
       "</style>\n",
       "<table border=\"1\" class=\"dataframe\">\n",
       "  <thead>\n",
       "    <tr style=\"text-align: right;\">\n",
       "      <th></th>\n",
       "      <th>Year</th>\n",
       "      <th>Month</th>\n",
       "      <th>Temperature</th>\n",
       "    </tr>\n",
       "  </thead>\n",
       "  <tbody>\n",
       "    <tr>\n",
       "      <th>0</th>\n",
       "      <td>1880</td>\n",
       "      <td>1</td>\n",
       "      <td>-0.36</td>\n",
       "    </tr>\n",
       "    <tr>\n",
       "      <th>143</th>\n",
       "      <td>1880</td>\n",
       "      <td>2</td>\n",
       "      <td>-0.51</td>\n",
       "    </tr>\n",
       "    <tr>\n",
       "      <th>286</th>\n",
       "      <td>1880</td>\n",
       "      <td>3</td>\n",
       "      <td>-0.23</td>\n",
       "    </tr>\n",
       "    <tr>\n",
       "      <th>429</th>\n",
       "      <td>1880</td>\n",
       "      <td>4</td>\n",
       "      <td>-0.30</td>\n",
       "    </tr>\n",
       "    <tr>\n",
       "      <th>572</th>\n",
       "      <td>1880</td>\n",
       "      <td>5</td>\n",
       "      <td>-0.06</td>\n",
       "    </tr>\n",
       "    <tr>\n",
       "      <th>...</th>\n",
       "      <td>...</td>\n",
       "      <td>...</td>\n",
       "      <td>...</td>\n",
       "    </tr>\n",
       "    <tr>\n",
       "      <th>1143</th>\n",
       "      <td>2022</td>\n",
       "      <td>8</td>\n",
       "      <td>1.16</td>\n",
       "    </tr>\n",
       "    <tr>\n",
       "      <th>1286</th>\n",
       "      <td>2022</td>\n",
       "      <td>9</td>\n",
       "      <td>1.15</td>\n",
       "    </tr>\n",
       "    <tr>\n",
       "      <th>1429</th>\n",
       "      <td>2022</td>\n",
       "      <td>10</td>\n",
       "      <td>1.31</td>\n",
       "    </tr>\n",
       "    <tr>\n",
       "      <th>1572</th>\n",
       "      <td>2022</td>\n",
       "      <td>11</td>\n",
       "      <td>1.08</td>\n",
       "    </tr>\n",
       "    <tr>\n",
       "      <th>1715</th>\n",
       "      <td>2022</td>\n",
       "      <td>12</td>\n",
       "      <td>1.08</td>\n",
       "    </tr>\n",
       "  </tbody>\n",
       "</table>\n",
       "<p>1716 rows × 3 columns</p>\n",
       "</div>"
      ],
      "text/plain": [
       "      Year  Month  Temperature\n",
       "0     1880      1        -0.36\n",
       "143   1880      2        -0.51\n",
       "286   1880      3        -0.23\n",
       "429   1880      4        -0.30\n",
       "572   1880      5        -0.06\n",
       "...    ...    ...          ...\n",
       "1143  2022      8         1.16\n",
       "1286  2022      9         1.15\n",
       "1429  2022     10         1.31\n",
       "1572  2022     11         1.08\n",
       "1715  2022     12         1.08\n",
       "\n",
       "[1716 rows x 3 columns]"
      ]
     },
     "execution_count": 33,
     "metadata": {},
     "output_type": "execute_result"
    }
   ],
   "source": [
    "m_temp.sort_values(by = ['Year', 'Month'])"
   ]
  },
  {
   "cell_type": "code",
   "execution_count": 34,
   "id": "2e0d04a7-4612-4ea2-8fcb-493e0d5898fb",
   "metadata": {},
   "outputs": [],
   "source": [
    "grouped = m_temp.groupby(['Year'])['Temperature'].mean()"
   ]
  },
  {
   "cell_type": "code",
   "execution_count": 70,
   "id": "19752879-71f3-48fa-a460-7777170ff15d",
   "metadata": {},
   "outputs": [
    {
     "name": "stdout",
     "output_type": "stream",
     "text": [
      "     Year  Mean_Temperature\n",
      "0    1880         -0.289167\n",
      "1    1881         -0.177500\n",
      "2    1882         -0.214167\n",
      "3    1883         -0.285000\n",
      "4    1884         -0.428333\n",
      "..    ...               ...\n",
      "138  2018          1.030833\n",
      "139  2019          1.205000\n",
      "140  2020          1.350000\n",
      "141  2021          1.138333\n",
      "142  2022          1.155833\n",
      "\n",
      "[143 rows x 2 columns]\n"
     ]
    }
   ],
   "source": [
    "result = pd.DataFrame({'Year': grouped.index, 'Mean_Temperature': grouped.values})\n",
    "print(result)"
   ]
  },
  {
   "cell_type": "code",
   "execution_count": 73,
   "id": "bca77579-2dbd-4af6-808c-de7146fd07ee",
   "metadata": {},
   "outputs": [
    {
     "data": {
      "image/png": "[encoded data removed]",
      "text/plain": [
       "<Figure size 640x480 with 1 Axes>"
      ]
     },
     "metadata": {},
     "output_type": "display_data"
    }
   ],
   "source": [
    "x = result.Year\n",
    "y = result.Mean_Temperature\n",
    "plt.scatter(x, y, color='blue')\n",
    "plt.xlabel('Year')\n",
    "plt.ylabel('Mean temperature (°C)')\n",
    "\n",
    "plt.show()"
   ]
  },
  {
   "cell_type": "markdown",
   "id": "c02edd93-b302-4b4a-86ce-2c288f5400b3",
   "metadata": {},
   "source": [
    "In the above image, we can see that temperatures have been increasing over the last century. As a result, we can track which month has the highest temperature each year and the lowest in order to try and predict which months of 2023 will be the hottest and coldest."
   ]
  },
  {
   "cell_type": "code",
   "execution_count": 37,
   "id": "e2fe26d1-44af-4ef4-b557-360794e93ecc",
   "metadata": {},
   "outputs": [],
   "source": [
    "grouped_month = m_temp.groupby(['Year'])['Temperature'].idxmax()\n",
    "max_result = m_temp.loc[grouped_month]\n",
    "max_result=max_result[['Year', 'Month', 'Temperature']]\n"
   ]
  },
  {
   "cell_type": "markdown",
   "id": "87bb3ebf-9f08-44f0-a251-66f097754711",
   "metadata": {},
   "source": [
    "then, we can see in a histogram, which monhts are more frecuent to have a rise in the temperature"
   ]
  },
  {
   "cell_type": "code",
   "execution_count": 105,
   "id": "86aacd85-eeb2-4a90-9620-e6315cf7f471",
   "metadata": {},
   "outputs": [
    {
     "data": {
      "text/plain": [
       "<AxesSubplot:xlabel='Month', ylabel='Frequency'>"
      ]
     },
     "execution_count": 105,
     "metadata": {},
     "output_type": "execute_result"
    },
    {
     "data": {
      "image/png": "[encoded data removed]",
      "text/plain": [
       "<Figure size 640x480 with 1 Axes>"
      ]
     },
     "metadata": {},
     "output_type": "display_data"
    }
   ],
   "source": [
    "rating=m_temp.loc[grouped_month]\n",
    "rating=rating[['Year','Month']]\n",
    "sns.histplot(rating, x='Month', stat='frequency', kde=True, bins=24)\n",
    "\n"
   ]
  },
  {
   "cell_type": "markdown",
   "id": "e950efcb-c4ce-4d21-b626-5f6a3cf61483",
   "metadata": {},
   "source": [
    "So, looking at the histogram, we can figure that is more frecuent to have high temperatures during January-February. There is a significant increase of the temperatures from December to January, this match wiht the begining of the summer in the Southern hemisphere, and it may be realted to this fact in combination of the rise of greenhouse effect emitions in the Northern hemisphere. ***The causes of the raise of the temperatures are not treated at this moment of this project***"
   ]
  },
  {
   "cell_type": "markdown",
   "id": "4d84b908-1244-4bc4-ba6b-2b7132903b8c",
   "metadata": {},
   "source": [
    "Now, let's wee which are the coldest month and after geting that information, we're gonna use linear regression to try a prediction of the higest temperature and compare with the real data that's already existing at the moment of the creation of this project."
   ]
  },
  {
   "cell_type": "code",
   "execution_count": null,
   "id": "1085b9a1-2d93-4382-a1bf-ef4924496938",
   "metadata": {},
   "outputs": [],
   "source": []
  }
 ],
 "metadata": {
  "kernelspec": {
   "display_name": "Python 3 (ipykernel)",
   "language": "python",
   "name": "python3"
  },
  "language_info": {
   "codemirror_mode": {
    "name": "ipython",
    "version": 3
   },
   "file_extension": ".py",
   "mimetype": "text/x-python",
   "name": "python",
   "nbconvert_exporter": "python",
   "pygments_lexer": "ipython3",
   "version": "3.9.13"
  },
  "widgets": {
   "application/vnd.jupyter.widget-state+json": {
    "state": {},
    "version_major": 2,
    "version_minor": 0
   }
  }
 },
 "nbformat": 4,
 "nbformat_minor": 5
}
